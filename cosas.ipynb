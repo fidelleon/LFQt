{
 "cells": [
  {
   "cell_type": "code",
   "id": "initial_id",
   "metadata": {
    "collapsed": true,
    "ExecuteTime": {
     "end_time": "2025-07-05T16:08:11.379318Z",
     "start_time": "2025-07-05T16:08:11.376243Z"
    }
   },
   "source": "import pandas as pd",
   "outputs": [],
   "execution_count": 51
  },
  {
   "metadata": {
    "ExecuteTime": {
     "end_time": "2025-07-05T16:08:11.394797Z",
     "start_time": "2025-07-05T16:08:11.392064Z"
    }
   },
   "cell_type": "code",
   "source": [
    "import datetime as dt\n",
    "\n",
    "parser = lambda date: dt.date.fromisoformat(date)"
   ],
   "id": "d86fce30dbf7c1f7",
   "outputs": [],
   "execution_count": 52
  },
  {
   "metadata": {
    "ExecuteTime": {
     "end_time": "2025-07-05T16:09:28.713406Z",
     "start_time": "2025-07-05T16:09:26.894190Z"
    }
   },
   "cell_type": "code",
   "source": [
    "df = pd.read_csv('https://lotw.arrl.org/lotw-user-activity.csv',\n",
    "                 names=['callsign', 'date', 'time'],\n",
    "                 dtype={'callsign': str},\n",
    "                 parse_dates=[1],\n",
    "                    date_format=parser,\n",
    "                 )\n",
    "df"
   ],
   "id": "335b1959f224352d",
   "outputs": [
    {
     "data": {
      "text/plain": [
       "        callsign        date      time\n",
       "0           1A0C  2025-05-03  18:06:33\n",
       "1          1A0KM  2014-02-08  15:08:08\n",
       "2           1A3A  2008-09-12  22:44:57\n",
       "3           1A4A  2008-09-16  17:36:57\n",
       "4       2A/DJ6AU  2012-01-04  22:24:58\n",
       "...          ...         ...       ...\n",
       "218507    ZZ80SP  2020-04-15  03:44:59\n",
       "218508    ZZ80TO  2020-04-14  21:15:25\n",
       "218509      ZZ8M  2024-04-25  17:06:21\n",
       "218510      ZZ8S  2020-09-09  23:56:12\n",
       "218511  ZZ90IARU  2016-01-02  00:25:03\n",
       "\n",
       "[218512 rows x 3 columns]"
      ],
      "text/html": [
       "<div>\n",
       "<style scoped>\n",
       "    .dataframe tbody tr th:only-of-type {\n",
       "        vertical-align: middle;\n",
       "    }\n",
       "\n",
       "    .dataframe tbody tr th {\n",
       "        vertical-align: top;\n",
       "    }\n",
       "\n",
       "    .dataframe thead th {\n",
       "        text-align: right;\n",
       "    }\n",
       "</style>\n",
       "<table border=\"1\" class=\"dataframe\">\n",
       "  <thead>\n",
       "    <tr style=\"text-align: right;\">\n",
       "      <th></th>\n",
       "      <th>callsign</th>\n",
       "      <th>date</th>\n",
       "      <th>time</th>\n",
       "    </tr>\n",
       "  </thead>\n",
       "  <tbody>\n",
       "    <tr>\n",
       "      <th>0</th>\n",
       "      <td>1A0C</td>\n",
       "      <td>2025-05-03</td>\n",
       "      <td>18:06:33</td>\n",
       "    </tr>\n",
       "    <tr>\n",
       "      <th>1</th>\n",
       "      <td>1A0KM</td>\n",
       "      <td>2014-02-08</td>\n",
       "      <td>15:08:08</td>\n",
       "    </tr>\n",
       "    <tr>\n",
       "      <th>2</th>\n",
       "      <td>1A3A</td>\n",
       "      <td>2008-09-12</td>\n",
       "      <td>22:44:57</td>\n",
       "    </tr>\n",
       "    <tr>\n",
       "      <th>3</th>\n",
       "      <td>1A4A</td>\n",
       "      <td>2008-09-16</td>\n",
       "      <td>17:36:57</td>\n",
       "    </tr>\n",
       "    <tr>\n",
       "      <th>4</th>\n",
       "      <td>2A/DJ6AU</td>\n",
       "      <td>2012-01-04</td>\n",
       "      <td>22:24:58</td>\n",
       "    </tr>\n",
       "    <tr>\n",
       "      <th>...</th>\n",
       "      <td>...</td>\n",
       "      <td>...</td>\n",
       "      <td>...</td>\n",
       "    </tr>\n",
       "    <tr>\n",
       "      <th>218507</th>\n",
       "      <td>ZZ80SP</td>\n",
       "      <td>2020-04-15</td>\n",
       "      <td>03:44:59</td>\n",
       "    </tr>\n",
       "    <tr>\n",
       "      <th>218508</th>\n",
       "      <td>ZZ80TO</td>\n",
       "      <td>2020-04-14</td>\n",
       "      <td>21:15:25</td>\n",
       "    </tr>\n",
       "    <tr>\n",
       "      <th>218509</th>\n",
       "      <td>ZZ8M</td>\n",
       "      <td>2024-04-25</td>\n",
       "      <td>17:06:21</td>\n",
       "    </tr>\n",
       "    <tr>\n",
       "      <th>218510</th>\n",
       "      <td>ZZ8S</td>\n",
       "      <td>2020-09-09</td>\n",
       "      <td>23:56:12</td>\n",
       "    </tr>\n",
       "    <tr>\n",
       "      <th>218511</th>\n",
       "      <td>ZZ90IARU</td>\n",
       "      <td>2016-01-02</td>\n",
       "      <td>00:25:03</td>\n",
       "    </tr>\n",
       "  </tbody>\n",
       "</table>\n",
       "<p>218512 rows × 3 columns</p>\n",
       "</div>"
      ]
     },
     "execution_count": 54,
     "metadata": {},
     "output_type": "execute_result"
    }
   ],
   "execution_count": 54
  },
  {
   "metadata": {
    "ExecuteTime": {
     "end_time": "2025-07-05T16:12:57.971342Z",
     "start_time": "2025-07-05T16:12:57.952865Z"
    }
   },
   "cell_type": "code",
   "source": "df[df['callsign'] == 'EA3IEG']",
   "id": "5a062a440d2d63fb",
   "outputs": [
    {
     "data": {
      "text/plain": [
       "      callsign        date      time\n",
       "34699   EA3IEG  2025-06-21  19:37:07"
      ],
      "text/html": [
       "<div>\n",
       "<style scoped>\n",
       "    .dataframe tbody tr th:only-of-type {\n",
       "        vertical-align: middle;\n",
       "    }\n",
       "\n",
       "    .dataframe tbody tr th {\n",
       "        vertical-align: top;\n",
       "    }\n",
       "\n",
       "    .dataframe thead th {\n",
       "        text-align: right;\n",
       "    }\n",
       "</style>\n",
       "<table border=\"1\" class=\"dataframe\">\n",
       "  <thead>\n",
       "    <tr style=\"text-align: right;\">\n",
       "      <th></th>\n",
       "      <th>callsign</th>\n",
       "      <th>date</th>\n",
       "      <th>time</th>\n",
       "    </tr>\n",
       "  </thead>\n",
       "  <tbody>\n",
       "    <tr>\n",
       "      <th>34699</th>\n",
       "      <td>EA3IEG</td>\n",
       "      <td>2025-06-21</td>\n",
       "      <td>19:37:07</td>\n",
       "    </tr>\n",
       "  </tbody>\n",
       "</table>\n",
       "</div>"
      ]
     },
     "execution_count": 57,
     "metadata": {},
     "output_type": "execute_result"
    }
   ],
   "execution_count": 57
  }
 ],
 "metadata": {
  "kernelspec": {
   "display_name": "Python 3",
   "language": "python",
   "name": "python3"
  },
  "language_info": {
   "codemirror_mode": {
    "name": "ipython",
    "version": 2
   },
   "file_extension": ".py",
   "mimetype": "text/x-python",
   "name": "python",
   "nbconvert_exporter": "python",
   "pygments_lexer": "ipython2",
   "version": "2.7.6"
  }
 },
 "nbformat": 4,
 "nbformat_minor": 5
}
